{
 "cells": [
  {
   "cell_type": "code",
   "execution_count": null,
   "id": "0bba808c-1cec-4eee-9591-5c8603342e32",
   "metadata": {},
   "outputs": [],
   "source": [
    "# import useful libraries\n",
    "import matplotlib.pyplot as plt\n",
    "import numpy as np\n",
    "from prose import Fluxes\n",
    "from utils import transit_fit\n",
    "\n",
    "# load data from pipeline\n",
    "data = Fluxes.load(\"HPP-ETHZ_20250410_TrES-2b_G.flux\")\n",
    "\n",
    "# plot to be sure it's what we expect\n",
    "ax = plt.subplot(xlabel=\"time (JD)\", ylabel=\"differential flux\", ylim=(0.98, 1.02))\n",
    "data.plot()\n",
    "data.bin(0.005, estimate_error=True).errorbar()"
   ]
  },
  {
   "cell_type": "code",
   "execution_count": null,
   "id": "181ac010-adbf-4281-a08e-3dfcc7944df8",
   "metadata": {},
   "outputs": [],
   "source": [
    "# get relevant data\n",
    "df = data.df\n",
    "df"
   ]
  },
  {
   "cell_type": "code",
   "execution_count": null,
   "id": "f9cf718e-c90f-4355-b623-44130697e803",
   "metadata": {},
   "outputs": [],
   "source": [
    "# normalise flux to 1 using ~pre-transit flux (first 10 data points)\n",
    "df.flux = df.flux / np.mean(df.flux[:10])"
   ]
  },
  {
   "cell_type": "code",
   "execution_count": null,
   "id": "e33921c8-fb4c-446c-a740-9f20aa11172b",
   "metadata": {},
   "outputs": [],
   "source": [
    "# fit transit\n",
    "_ = transit_fit(\n",
    "    time = df.bjd.values,\n",
    "    flux = df.flux,\n",
    "    duration_known =,  # in days\n",
    "    period_known =,\n",
    "    transit_time =,\n",
    "    a_guess =,\n",
    "    rp_guess =,\n",
    "    inc_guess =\n",
    ")"
   ]
  }
 ],
 "metadata": {
  "kernelspec": {
   "display_name": "Python 3 (ipykernel)",
   "language": "python",
   "name": "python3"
  },
  "language_info": {
   "codemirror_mode": {
    "name": "ipython",
    "version": 3
   },
   "file_extension": ".py",
   "mimetype": "text/x-python",
   "name": "python",
   "nbconvert_exporter": "python",
   "pygments_lexer": "ipython3",
   "version": "3.11.6"
  }
 },
 "nbformat": 4,
 "nbformat_minor": 5
}
